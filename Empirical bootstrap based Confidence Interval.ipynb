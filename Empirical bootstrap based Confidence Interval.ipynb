{
 "cells": [
  {
   "cell_type": "code",
   "execution_count": 22,
   "metadata": {},
   "outputs": [
    {
     "data": {
      "image/png": "[encoded data removed]",
      "text/plain": [
       "<Figure size 432x288 with 1 Axes>"
      ]
     },
     "metadata": {
      "needs_background": "light"
     },
     "output_type": "display_data"
    },
    {
     "name": "stdout",
     "output_type": "stream",
     "text": [
      "95.0 % confidance interval 112.0 and 159.5 is \n"
     ]
    }
   ],
   "source": [
    "import numpy as np\n",
    "import pandas as pd\n",
    "from matplotlib import pyplot as plt\n",
    "from sklearn.utils import resample\n",
    "\n",
    "\n",
    "#load the data set\n",
    "X=np.array( [100,112,181,135,145,148,153,158,102,166] )\n",
    "\n",
    "#configure bootstrap\n",
    "n_iteration=1000   #k=1000\n",
    "n_size=int(len(X)) #m\n",
    "\n",
    "#run Bootsrap\n",
    "\n",
    "medians=[]\n",
    "for i in range(n_iteration):\n",
    "    #prepare train and test sets\n",
    "    s=resample(X,n_samples=n_size)   # s=Bootstrap_sample\n",
    "    m=np.median(s)\n",
    "    #print(m)\n",
    "    medians.append(m)\n",
    "    \n",
    "#plot scores\n",
    "plt.hist(medians)\n",
    "plt.show()\n",
    "\n",
    "#C.I\n",
    "alpha=0.95\n",
    "p=( (1.0-alpha)/2.0 ) *100\n",
    "lower=np.percentile(medians,p)\n",
    "\n",
    "p=(alpha +( (1.0-alpha)/2.0 ) ) *100\n",
    "upper=np.percentile(medians,p)\n",
    "\n",
    "print(\"{} % confidance interval {} and {} is \".format(alpha*100,lower,upper))"
   ]
  },
  {
   "cell_type": "code",
   "execution_count": null,
   "metadata": {},
   "outputs": [],
   "source": [
    "9"
   ]
  }
 ],
 "metadata": {
  "kernelspec": {
   "display_name": "Python 3",
   "language": "python",
   "name": "python3"
  },
  "language_info": {
   "codemirror_mode": {
    "name": "ipython",
    "version": 3
   },
   "file_extension": ".py",
   "mimetype": "text/x-python",
   "name": "python",
   "nbconvert_exporter": "python",
   "pygments_lexer": "ipython3",
   "version": "3.7.4"
  }
 },
 "nbformat": 4,
 "nbformat_minor": 2
}
